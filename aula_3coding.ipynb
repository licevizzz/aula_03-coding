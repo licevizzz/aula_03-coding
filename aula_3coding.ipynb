{
 "cells": [
  {
   "cell_type": "code",
   "execution_count": 7,
   "metadata": {},
   "outputs": [
    {
     "name": "stdout",
     "output_type": "stream",
     "text": [
      "Seu número escolhido foi: 5\n"
     ]
    }
   ],
   "source": [
    "#pedir um numero\n",
    "numero= int(input(\"Digite um numero.\"))\n",
    "print(\"Seu número escolhido foi:\" , numero)"
   ]
  },
  {
   "cell_type": "code",
   "execution_count": 6,
   "metadata": {},
   "outputs": [
    {
     "name": "stdout",
     "output_type": "stream",
     "text": [
      "5\n",
      "a soma dos numero escolhidos e 10\n"
     ]
    }
   ],
   "source": [
    "#pedir dois numeros\n",
    "\n",
    "numero1= int(input(\"informe um numero\"))\n",
    "print(numero1)\n",
    "numero2= int(input('informe outro numero'))\n",
    "soma= numero1 + numero2\n",
    "print(\"a soma dos numero escolhidos e\" , soma )"
   ]
  },
  {
   "cell_type": "code",
   "execution_count": 8,
   "metadata": {},
   "outputs": [
    {
     "name": "stdout",
     "output_type": "stream",
     "text": [
      "4.0\n"
     ]
    }
   ],
   "source": [
    "#pedir 3 notas e mostrar a media\n",
    "nota1= float(input(\"digite a primeira nota\"))\n",
    "nota2= float(input(\"digite a segunda nota\"))\n",
    "nota3= float(input(\"digite a terceira nota\"))\n",
    "\n",
    "media= (nota1 +nota2 +nota3)/3\n",
    "print(media)\n",
    "\n",
    "\n"
   ]
  }
 ],
 "metadata": {
  "kernelspec": {
   "display_name": "Python 3",
   "language": "python",
   "name": "python3"
  },
  "language_info": {
   "codemirror_mode": {
    "name": "ipython",
    "version": 3
   },
   "file_extension": ".py",
   "mimetype": "text/x-python",
   "name": "python",
   "nbconvert_exporter": "python",
   "pygments_lexer": "ipython3",
   "version": "3.11.9"
  }
 },
 "nbformat": 4,
 "nbformat_minor": 2
}
